{
  "nbformat": 4,
  "nbformat_minor": 0,
  "metadata": {
    "colab": {
      "name": "Untitled1.ipynb",
      "provenance": [],
      "collapsed_sections": [],
      "authorship_tag": "ABX9TyOUb0Juq49PIBJ1sXGBP16D",
      "include_colab_link": true
    },
    "kernelspec": {
      "name": "python3",
      "display_name": "Python 3"
    },
    "language_info": {
      "name": "python"
    }
  },
  "cells": [
    {
      "cell_type": "markdown",
      "metadata": {
        "id": "view-in-github",
        "colab_type": "text"
      },
      "source": [
        "<a href=\"https://colab.research.google.com/github/mariem-elfouzi/check2/blob/main/Untitled1.ipynb\" target=\"_parent\"><img src=\"https://colab.research.google.com/assets/colab-badge.svg\" alt=\"Open In Colab\"/></a>"
      ]
    },
    {
      "cell_type": "code",
      "metadata": {
        "id": "qk02DfB2PiFw"
      },
      "source": [
        "#question 1\n",
        "first=input(\"type your first name\")\n",
        "last=input(\"type your last name\")\n",
        "print(last,\" \",first)"
      ],
      "execution_count": null,
      "outputs": []
    },
    {
      "cell_type": "code",
      "metadata": {
        "id": "1keCgVt9KIOr"
      },
      "source": [
        "#question 2\n",
        "n=input()\n",
        "n=int(n)\n",
        "x=n*10+n\n",
        "y=n*100+x\n",
        "z=x+y+n\n",
        "print(z,\"(\",n,\"+\",x,\"+\",y,\")\")"
      ],
      "execution_count": null,
      "outputs": []
    },
    {
      "cell_type": "code",
      "metadata": {
        "id": "Sr-cZ_4bN9cC"
      },
      "source": [
        "#question 3\n",
        "n=input()\n",
        "n=int(n)\n",
        "if n%2==0:\n",
        "  print(\"the number is even \")\n",
        "else:\n",
        "  print(\"the number is odd \")"
      ],
      "execution_count": null,
      "outputs": []
    },
    {
      "cell_type": "code",
      "metadata": {
        "id": "7WgylYPwQNAP"
      },
      "source": [
        "#question 4\n",
        "for i in range (2000,3201):\n",
        "  if i%7==0 and i%5!=0:\n",
        "    print(i,\"  \",end=\"\")"
      ],
      "execution_count": null,
      "outputs": []
    },
    {
      "cell_type": "code",
      "metadata": {
        "colab": {
          "base_uri": "https://localhost:8080/"
        },
        "id": "dXA2TxsKTG_x",
        "outputId": "635e0a4d-4167-473f-ede7-bd86b42a7126"
      },
      "source": [
        "#question 5\n",
        "m=int(input())\n",
        "p=1\n",
        "if m==0:\n",
        "  print(1)\n",
        "else:\n",
        "  while m>=1:\n",
        "    p=p*m\n",
        "    m=m-1\n",
        "print(p)\n",
        "\n"
      ],
      "execution_count": 66,
      "outputs": [
        {
          "output_type": "stream",
          "text": [
            "8\n",
            "40320\n"
          ],
          "name": "stdout"
        }
      ]
    },
    {
      "cell_type": "code",
      "metadata": {
        "id": "rytPk25gkuMI"
      },
      "source": [
        "#question 6\n",
        "str1=input()\n",
        "str2=str1[::2]\n",
        "print(str2)"
      ],
      "execution_count": null,
      "outputs": []
    },
    {
      "cell_type": "code",
      "metadata": {
        "id": "av6aF8AomiTs"
      },
      "source": [
        "#question 7\n",
        "k=input()\n",
        "k=int(k)\n",
        "if k>=500:\n",
        "  k=k/2\n",
        "elif k>=200 and k<500:\n",
        "  k=k*0.7\n",
        "else:\n",
        "  k=k*0.9\n",
        "print(k)\n",
        "\n"
      ],
      "execution_count": null,
      "outputs": []
    }
  ]
}